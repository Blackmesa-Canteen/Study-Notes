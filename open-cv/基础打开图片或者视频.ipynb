{
 "cells": [
  {
   "cell_type": "markdown",
   "id": "096d7aa7",
   "metadata": {},
   "source": [
    "# 数据读取-图像"
   ]
  },
  {
   "cell_type": "markdown",
   "id": "81f435d9",
   "metadata": {},
   "source": [
    "cv2.IMREAD_COLOR: 彩色，cv2.IMREAD_GRAYSCALE:"
   ]
  },
  {
   "cell_type": "code",
   "execution_count": 3,
   "id": "8c214d33",
   "metadata": {},
   "outputs": [],
   "source": [
    "import cv2\n",
    "import numpy as np\n",
    "import matplotlib.pyplot as plt\n",
    "%matplotlib inline\n",
    "\n",
    "\n",
    "# 1 colored, 0 gray, -1 alpha channel\n",
    "\n",
    "img = cv2.imread('lena.jpg', cv2.IMREAD_COLOR)"
   ]
  },
  {
   "cell_type": "markdown",
   "id": "49ad8454",
   "metadata": {},
   "source": [
    "康康img是啥"
   ]
  },
  {
   "cell_type": "code",
   "execution_count": 4,
   "id": "5f70a7d9",
   "metadata": {},
   "outputs": [
    {
     "data": {
      "text/plain": [
       "array([[[128, 138, 225],\n",
       "        [127, 137, 224],\n",
       "        [126, 136, 224],\n",
       "        ...,\n",
       "        [126, 145, 236],\n",
       "        [110, 129, 220],\n",
       "        [ 86, 104, 197]],\n",
       "\n",
       "       [[127, 137, 224],\n",
       "        [127, 137, 224],\n",
       "        [127, 137, 224],\n",
       "        ...,\n",
       "        [130, 150, 235],\n",
       "        [112, 132, 217],\n",
       "        [ 83, 102, 189]],\n",
       "\n",
       "       [[127, 137, 224],\n",
       "        [127, 137, 224],\n",
       "        [128, 138, 225],\n",
       "        ...,\n",
       "        [127, 148, 230],\n",
       "        [112, 133, 215],\n",
       "        [ 85, 105, 190]],\n",
       "\n",
       "       ...,\n",
       "\n",
       "       [[ 55,  21,  82],\n",
       "        [ 54,  20,  81],\n",
       "        [ 62,  28,  92],\n",
       "        ...,\n",
       "        [ 82,  71, 175],\n",
       "        [ 78,  68, 175],\n",
       "        [ 74,  65, 175]],\n",
       "\n",
       "       [[ 55,  18,  80],\n",
       "        [ 56,  19,  81],\n",
       "        [ 66,  32,  96],\n",
       "        ...,\n",
       "        [ 82,  69, 177],\n",
       "        [ 80,  71, 181],\n",
       "        [ 81,  72, 183]],\n",
       "\n",
       "       [[ 56,  19,  81],\n",
       "        [ 58,  21,  83],\n",
       "        [ 68,  34,  98],\n",
       "        ...,\n",
       "        [ 81,  68, 176],\n",
       "        [ 81,  72, 183],\n",
       "        [ 84,  74, 188]]], dtype=uint8)"
      ]
     },
     "execution_count": 4,
     "metadata": {},
     "output_type": "execute_result"
    }
   ],
   "source": [
    "# 默认格式BGR\n",
    "img"
   ]
  },
  {
   "cell_type": "markdown",
   "id": "cb137064",
   "metadata": {},
   "source": [
    "康康图"
   ]
  },
  {
   "cell_type": "code",
   "execution_count": 5,
   "id": "790b93ed",
   "metadata": {},
   "outputs": [],
   "source": [
    "# 图像显示\n",
    "def cv_show(name, img):\n",
    "    cv2.imshow(name, img)\n",
    "    # 等待时间毫秒，0表示任意键终止\n",
    "    cv2.waitKey(0)\n",
    "    cv2.destroyAllWindows()"
   ]
  },
  {
   "cell_type": "code",
   "execution_count": 6,
   "id": "2f738db9",
   "metadata": {},
   "outputs": [
    {
     "data": {
      "text/plain": [
       "(512, 512, 3)"
      ]
     },
     "execution_count": 6,
     "metadata": {},
     "output_type": "execute_result"
    }
   ],
   "source": [
    "img.shape\n",
    "# h，w，c, 3是RGB"
   ]
  },
  {
   "cell_type": "code",
   "execution_count": 7,
   "id": "9abfbdc6",
   "metadata": {},
   "outputs": [],
   "source": [
    "# 读成灰度图\n",
    "img = cv2.imread('lena.jpg', cv2.IMREAD_GRAYSCALE)"
   ]
  },
  {
   "cell_type": "code",
   "execution_count": 8,
   "id": "3cabf37f",
   "metadata": {},
   "outputs": [
    {
     "data": {
      "text/plain": [
       "(512, 512)"
      ]
     },
     "execution_count": 8,
     "metadata": {},
     "output_type": "execute_result"
    }
   ],
   "source": [
    "img.shape"
   ]
  },
  {
   "cell_type": "code",
   "execution_count": 9,
   "id": "176a5e9d",
   "metadata": {},
   "outputs": [
    {
     "data": {
      "text/plain": [
       "True"
      ]
     },
     "execution_count": 9,
     "metadata": {},
     "output_type": "execute_result"
    }
   ],
   "source": [
    "#保存\n",
    "cv2.imwrite('huidu_demo.png', img)"
   ]
  },
  {
   "cell_type": "code",
   "execution_count": 10,
   "id": "776e79c6",
   "metadata": {},
   "outputs": [
    {
     "data": {
      "text/plain": [
       "numpy.ndarray"
      ]
     },
     "execution_count": 10,
     "metadata": {},
     "output_type": "execute_result"
    }
   ],
   "source": [
    "#img是个啥\n",
    "type(img)"
   ]
  },
  {
   "cell_type": "markdown",
   "id": "3460e860",
   "metadata": {},
   "source": [
    "# 读视频"
   ]
  },
  {
   "cell_type": "code",
   "execution_count": 11,
   "id": "60892d06",
   "metadata": {},
   "outputs": [],
   "source": [
    "vc = cv2.VideoCapture('tree.avi')\n",
    "\n",
    "# 检查打开正确\n",
    "if vc.isOpened():\n",
    "    open, frame = vc.read()\n",
    "else:\n",
    "    open = False\n",
    "    print('打开失败了')"
   ]
  },
  {
   "cell_type": "code",
   "execution_count": 12,
   "id": "534bf4f4",
   "metadata": {},
   "outputs": [
    {
     "data": {
      "text/plain": [
       "True"
      ]
     },
     "execution_count": 12,
     "metadata": {},
     "output_type": "execute_result"
    }
   ],
   "source": [
    "open"
   ]
  },
  {
   "cell_type": "code",
   "execution_count": 13,
   "id": "54f82156",
   "metadata": {},
   "outputs": [],
   "source": [
    "# 变成灰度视频\n",
    "while open:\n",
    "    ret, frame = vc.read()\n",
    "    if frame is None:\n",
    "        break\n",
    "    if ret == True:\n",
    "        gray = cv2.cvtColor(frame, cv2.COLOR_BGR2GRAY)\n",
    "        cv2.imshow('result', gray)\n",
    "        # 按下Esc\n",
    "        if cv2.waitKey(10) & 0xFF == 27:\n",
    "            break\n",
    "            \n",
    "vc.release()\n",
    "cv2.destroyAllWindows()"
   ]
  },
  {
   "cell_type": "markdown",
   "id": "591e85e4",
   "metadata": {},
   "source": [
    "## 截取部分图像区域的数据"
   ]
  },
  {
   "cell_type": "code",
   "execution_count": 14,
   "id": "cf8706e0",
   "metadata": {},
   "outputs": [
    {
     "ename": "KeyboardInterrupt",
     "evalue": "",
     "output_type": "error",
     "traceback": [
      "\u001b[0;31m---------------------------------------------------------------------------\u001b[0m",
      "\u001b[0;31mKeyboardInterrupt\u001b[0m                         Traceback (most recent call last)",
      "\u001b[0;32m<ipython-input-14-6e2af848fb16>\u001b[0m in \u001b[0;36m<module>\u001b[0;34m\u001b[0m\n\u001b[1;32m      1\u001b[0m \u001b[0mimg\u001b[0m \u001b[0;34m=\u001b[0m \u001b[0mcv2\u001b[0m\u001b[0;34m.\u001b[0m\u001b[0mimread\u001b[0m\u001b[0;34m(\u001b[0m\u001b[0;34m'lena.jpg'\u001b[0m\u001b[0;34m)\u001b[0m\u001b[0;34m\u001b[0m\u001b[0;34m\u001b[0m\u001b[0m\n\u001b[1;32m      2\u001b[0m \u001b[0mpart\u001b[0m \u001b[0;34m=\u001b[0m \u001b[0mimg\u001b[0m\u001b[0;34m[\u001b[0m\u001b[0;36m0\u001b[0m\u001b[0;34m:\u001b[0m\u001b[0;36m200\u001b[0m\u001b[0;34m,\u001b[0m \u001b[0;36m0\u001b[0m\u001b[0;34m:\u001b[0m\u001b[0;36m200\u001b[0m\u001b[0;34m]\u001b[0m\u001b[0;34m\u001b[0m\u001b[0;34m\u001b[0m\u001b[0m\n\u001b[0;32m----> 3\u001b[0;31m \u001b[0mcv_show\u001b[0m\u001b[0;34m(\u001b[0m\u001b[0;34m'part'\u001b[0m\u001b[0;34m,\u001b[0m \u001b[0mpart\u001b[0m\u001b[0;34m)\u001b[0m\u001b[0;34m\u001b[0m\u001b[0;34m\u001b[0m\u001b[0m\n\u001b[0m",
      "\u001b[0;32m<ipython-input-5-a96ecb61e5f0>\u001b[0m in \u001b[0;36mcv_show\u001b[0;34m(name, img)\u001b[0m\n\u001b[1;32m      3\u001b[0m     \u001b[0mcv2\u001b[0m\u001b[0;34m.\u001b[0m\u001b[0mimshow\u001b[0m\u001b[0;34m(\u001b[0m\u001b[0mname\u001b[0m\u001b[0;34m,\u001b[0m \u001b[0mimg\u001b[0m\u001b[0;34m)\u001b[0m\u001b[0;34m\u001b[0m\u001b[0;34m\u001b[0m\u001b[0m\n\u001b[1;32m      4\u001b[0m     \u001b[0;31m# 等待时间毫秒，0表示任意键终止\u001b[0m\u001b[0;34m\u001b[0m\u001b[0;34m\u001b[0m\u001b[0;34m\u001b[0m\u001b[0m\n\u001b[0;32m----> 5\u001b[0;31m     \u001b[0mcv2\u001b[0m\u001b[0;34m.\u001b[0m\u001b[0mwaitKey\u001b[0m\u001b[0;34m(\u001b[0m\u001b[0;36m0\u001b[0m\u001b[0;34m)\u001b[0m\u001b[0;34m\u001b[0m\u001b[0;34m\u001b[0m\u001b[0m\n\u001b[0m\u001b[1;32m      6\u001b[0m     \u001b[0mcv2\u001b[0m\u001b[0;34m.\u001b[0m\u001b[0mdestroyAllWindows\u001b[0m\u001b[0;34m(\u001b[0m\u001b[0;34m)\u001b[0m\u001b[0;34m\u001b[0m\u001b[0;34m\u001b[0m\u001b[0m\n",
      "\u001b[0;31mKeyboardInterrupt\u001b[0m: "
     ]
    }
   ],
   "source": [
    "img = cv2.imread('lena.jpg')\n",
    "part = img[0:200, 0:200]\n",
    "cv_show('part', part)"
   ]
  },
  {
   "cell_type": "markdown",
   "id": "96162748",
   "metadata": {},
   "source": [
    "## 颜色通道提取"
   ]
  },
  {
   "cell_type": "code",
   "execution_count": null,
   "id": "c5bf6c77",
   "metadata": {},
   "outputs": [],
   "source": [
    "b, g, r = cv2.split(img)"
   ]
  },
  {
   "cell_type": "markdown",
   "id": "469a9664",
   "metadata": {},
   "source": [
    "## 边界填充"
   ]
  },
  {
   "cell_type": "markdown",
   "id": "a3981cbc",
   "metadata": {},
   "source": [
    "- BORDER_REPLICATE 复制法：复制最边缘像素\n",
    "- BORDER_REFLECT 反射法: 图像中的像素在两边进行复制 fedcba | abcdefgh | hgfedcb\n",
    "- BORDER_REFLECT_101 反射法: 以最边缘像素为轴，对称 gfedcb | avcdefgh | gfedcba\n",
    "- BORDER_WRAP 外包装法: cdefgh | abcdefgh | abcdefg\n",
    "- BORDER_CONSTANT 常量法: 常数填充"
   ]
  }
 ],
 "metadata": {
  "kernelspec": {
   "display_name": "Python 3",
   "language": "python",
   "name": "python3"
  },
  "language_info": {
   "codemirror_mode": {
    "name": "ipython",
    "version": 3
   },
   "file_extension": ".py",
   "mimetype": "text/x-python",
   "name": "python",
   "nbconvert_exporter": "python",
   "pygments_lexer": "ipython3",
   "version": "3.8.10"
  }
 },
 "nbformat": 4,
 "nbformat_minor": 5
}
